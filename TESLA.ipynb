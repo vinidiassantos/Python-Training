{
 "cells": [
  {
   "cell_type": "code",
   "execution_count": null,
   "metadata": {
    "vscode": {
     "languageId": "plaintext"
    }
   },
   "outputs": [],
   "source": [
    "from pyspark.sql import SparkSession\n",
    "from pyspark.sql.functions import *\n",
    "\n",
    "# Criando sessão do Spark\n",
    "spark = SparkSession.builder.appName(\"BronzeLayer\").get0rCreate()\n",
    "\n",
    "# Carregando o CSV para o Dataframe\n",
    "bronze_df = spark.read.csv(\"tesla.csv\", header=True, inferSchema=True)\n",
    "\n",
    "# Salvando no formato Delta\n",
    "bronze_df.write.format(\"delta)\".mode(\"overwrite\")save(\"/mnt/datalake/bronze/tesla\")"
   ]
  },
  {
   "cell_type": "code",
   "execution_count": null,
   "metadata": {
    "vscode": {
     "languageId": "plaintext"
    }
   },
   "outputs": [],
   "source": [
    "# Criar a Camada Silver\n",
    "\n",
    "silver_df = bronze_df.dropDuplicates().na.drop()\n",
    "\n",
    "# Salvando no Delta Lake\n",
    "silver_df.write.format(\"delta\").mode(\"overwrite\").save(\"/mnt/datalake/silver/tesla\")"
   ]
  },
  {
   "cell_type": "code",
   "execution_count": null,
   "metadata": {
    "vscode": {
     "languageId": "plaintext"
    }
   },
   "outputs": [],
   "source": [
    "# Criando a camada Gold\n",
    "gold_df = silver_df.groupBy(\"Date\").agg(avg(\"Close\").alias(\"Avg_Close\"))\n",
    "\n",
    "# Salvando no Delta Lake\n",
    "gold_df.write.format(\"delta\").mode(\"overwrite\").save(\"/mnt/datalake/gold/tesla\")"
   ]
  },
  {
   "cell_type": "code",
   "execution_count": null,
   "metadata": {
    "vscode": {
     "languageId": "plaintext"
    }
   },
   "outputs": [],
   "source": [
    "# Consultando os Dados no Databricks\n",
    "SELECT * FROM delta.`/mnt/datalake/gold/tesla`;\n"
   ]
  }
 ],
 "metadata": {
  "language_info": {
   "name": "python"
  }
 },
 "nbformat": 4,
 "nbformat_minor": 2
}
