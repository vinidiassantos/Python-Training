{
 "cells": [
  {
   "cell_type": "code",
   "execution_count": null,
   "metadata": {},
   "outputs": [],
   "source": [
    "!pip install pandas openpyxl"
   ]
  },
  {
   "cell_type": "code",
   "execution_count": null,
   "metadata": {},
   "outputs": [],
   "source": []
  },
  {
   "cell_type": "code",
   "execution_count": null,
   "metadata": {},
   "outputs": [],
   "source": [
    "with open(json_path, encoding=\"utf-8\") as f:\n",
    "    try:\n",
    "        data = json.load(f)\n",
    "        print(\"JSON carregado com sucesso!\")\n",
    "        # Verifique os dados carregados\n",
    "        print(data)  \n",
    "    except json.JSONDecodeError as e:\n",
    "        print(f\"Erro ao carregar o JSON: {e}\")"
   ]
  },
  {
   "cell_type": "code",
   "execution_count": null,
   "metadata": {},
   "outputs": [],
   "source": [
    "if \"data\" in data and \"date_2025-01-29\" in data[\"data\"]:\n",
    "    for key, location in data[\"data\"][\"date_2025-01-29\"].items():\n",
    "        # Seu código aqui...\n",
    "else:\n",
    "    print(\"Estrutura de dados inesperada no JSON.\")"
   ]
  }
 ],
 "metadata": {
  "kernelspec": {
   "display_name": "base",
   "language": "python",
   "name": "python3"
  },
  "language_info": {
   "codemirror_mode": {
    "name": "ipython",
    "version": 3
   },
   "file_extension": ".py",
   "mimetype": "text/x-python",
   "name": "python",
   "nbconvert_exporter": "python",
   "pygments_lexer": "ipython3",
   "version": "3.11.7"
  }
 },
 "nbformat": 4,
 "nbformat_minor": 2
}
