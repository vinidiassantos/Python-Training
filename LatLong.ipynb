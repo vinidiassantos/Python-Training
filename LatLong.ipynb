{
 "cells": [
  {
   "cell_type": "code",
   "execution_count": null,
   "metadata": {
    "vscode": {
     "languageId": "plaintext"
    }
   },
   "outputs": [],
   "source": [
    "import pandas as pd\n",
    "import numpy as np\n",
    "\n",
    "from itertools import combinations\n",
    "from math import radians, sin, cos, sqrt, atan2"
   ]
  },
  {
   "cell_type": "code",
   "execution_count": null,
   "metadata": {
    "vscode": {
     "languageId": "plaintext"
    }
   },
   "outputs": [],
   "source": [
    "# Importacao da base de dados contendo a latitude e a longitude de cada municipio\n",
    "\n",
    "tabela = pd.read_csv('municipios.csv')"
   ]
  },
  {
   "cell_type": "code",
   "execution_count": null,
   "metadata": {
    "vscode": {
     "languageId": "plaintext"
    }
   },
   "outputs": [],
   "source": [
    "tabela.head()\n",
    "codigo_ibge\tlatitude\tlongitude\tcapital\tcodigo_uf\tsiafi_id\tddd\n",
    "0\t5200050\t-16.75730\t-49.4412\t0\t52\t1050\t62\n",
    "1\t3100104\t-18.48310\t-47.3916\t0\t31\t4001\t34\n",
    "2\t5200100\t-16.19700\t-48.7057\t0\t52\t9201\t62\n",
    "3\t3100203\t-19.15510\t-45.4444\t0\t31\t4003\t37\n",
    "4\t1500107\t-1.72183\t-48.8788\t0\t15\t401\t91\n"
   ]
  },
  {
   "cell_type": "code",
   "execution_count": null,
   "metadata": {
    "vscode": {
     "languageId": "plaintext"
    }
   },
   "outputs": [],
   "source": [
    "# Funcao para converter coordenadas de latitude e longitude para cartesianas\n",
    "\n",
    "def lat_long_to_cartesiana(lat, lon):\n",
    "    R = 6371 # Raio medio da Terra em quilometros\n",
    "    x = R * np.cos(np.radians(lat)) * np.cos(np.radians(lon))\n",
    "    y = R * np.cos(np.radians(lat)) * np.sin(np.radians(lon))\n",
    "    z = R * np.sin(np.radians(lat))\n",
    "\n",
    "    return x,y,z"
   ]
  },
  {
   "cell_type": "code",
   "execution_count": null,
   "metadata": {
    "vscode": {
     "languageId": "plaintext"
    }
   },
   "outputs": [],
   "source": [
    "df = pd.DataFrame(tabela)\n",
    "\n",
    "# Aplicar a função de conversão para obter as coordenadas cartesianas\n",
    "df['x'], df['y'], df['z'] = lat_long_to_cartesiana(df['latitude'], df['longitude'])\n",
    "\n",
    "# Exibindo o DataFrame com as coordenadas cartesianas\n",
    "print(df)\n",
    "      codigo_ibge  latitude  longitude  capital  codigo_uf  siafi_id  ddd  \\\n",
    "0         5200050 -16.75730   -49.4412        0         52      1050   62   \n",
    "1         3100104 -18.48310   -47.3916        0         31      4001   34   \n",
    "2         5200100 -16.19700   -48.7057        0         52      9201   62   \n",
    "3         3100203 -19.15510   -45.4444        0         31      4003   37   \n",
    "4         1500107  -1.72183   -48.8788        0         15       401   91   \n",
    "...           ...       ...        ...      ...        ...       ...  ...   \n",
    "5565      2933604 -10.82300   -42.7245        0         29      3971   74   \n",
    "5566      2517407  -8.07901   -37.1057        0         25       542   83   \n",
    "5567      3557154 -21.05060   -50.0552        0         35      2973   18   \n",
    "5568      2114007  -3.27014   -45.6553        0         21      1287   98   \n",
    "5569      4219853 -27.45210   -51.5520        0         42       950   49   \n",
    "\n",
    "                x            y            z  \n",
    "0     3966.685915 -4634.752587 -1836.875692  \n",
    "1     4090.584393 -4447.168365 -2019.765794  \n",
    "2     4037.514851 -4596.728913 -1777.131995  \n",
    "3     4222.419033 -4288.432592 -2090.493821  \n",
    "4     4188.021993 -4797.235388  -191.429944  \n",
    "...           ...          ...          ...  \n",
    "5565  4597.039687 -4245.667120 -1196.318442  \n",
    "5566  5030.596759 -3805.397224  -895.370992  \n",
    "5567  3817.510930 -4558.444070 -2288.414072  \n",
    "5568  4445.908552 -4548.786650  -363.425591  \n",
    "5569  3515.433833 -4427.748486 -2937.074958  \n",
    "\n",
    "[5570 rows x 10 columns]"
   ]
  },
  {
   "cell_type": "code",
   "execution_count": null,
   "metadata": {
    "vscode": {
     "languageId": "plaintext"
    }
   },
   "outputs": [],
   "source": [
    "# Função para calcular a distância Haversine entre dois pares de latitude e longitude\n",
    "def haversine(lat1, lon1, lat2, lon2):\n",
    "    # Convert latitude and longitude from degrees to radians\n",
    "    lat1, lon1, lat2, lon2 = map(radians, [lat1, lon1, lat2, lon2])\n",
    "\n",
    "    # Haversine formula\n",
    "    dlon = lon2 - lon1\n",
    "    dlat = lat2 - lat1\n",
    "    a = sin(dlat / 2) ** 2 + cos(lat1) * cos(lat2) * sin(dlon / 2) ** 2\n",
    "    c = 2 * atan2(sqrt(a), sqrt(1 - a))\n",
    "    distance = 6371 * c  # Earth radius in kilometers\n",
    "    return distance"
   ]
  },
  {
   "cell_type": "code",
   "execution_count": null,
   "metadata": {
    "vscode": {
     "languageId": "plaintext"
    }
   },
   "outputs": [],
   "source": [
    "# Lista para armazenar as distâncias entre as cidades\n",
    "distances = []\n",
    "\n",
    "# Calcular a distância entre cada par de cidades\n",
    "for codigo_ibge_1, codigo_ibge_2 in combinations(df.index, 2):\n",
    "    lat1, lon1 = df.loc[codigo_ibge_1, ['latitude', 'longitude']]\n",
    "    lat2, lon2 = df.loc[codigo_ibge_2, ['latitude', 'longitude']]\n",
    "    distance = haversine(lat1, lon1, lat2, lon2)\n",
    "    distances.append((codigo_ibge_1, codigo_ibge_2, distance))\n",
    "\n",
    "# Criar DataFrame com as distâncias calculadas\n",
    "distances_df_2 = pd.DataFrame(distances, columns=['City1', 'City2', 'Distance (km)'])\n",
    "print(distances_df_2)"
   ]
  },
  {
   "cell_type": "code",
   "execution_count": null,
   "metadata": {
    "vscode": {
     "languageId": "plaintext"
    }
   },
   "outputs": [],
   "source": [
    "distances_df_2.to_csv('base_distancias_geral.csv')"
   ]
  },
  {
   "cell_type": "code",
   "execution_count": null,
   "metadata": {
    "vscode": {
     "languageId": "plaintext"
    }
   },
   "outputs": [],
   "source": [
    "distances_df_2\n",
    "City1\tCity2\tDistance (km)\n",
    "0\t0\t1\t289.830897\n",
    "1\t0\t2\t100.160142\n",
    "2\t0\t3\t499.787149\n",
    "3\t0\t4\t1672.999956\n",
    "4\t0\t5\t1539.696725\n",
    "...\t...\t...\t...\n",
    "15509660\t5566\t5568\t1086.421409\n",
    "15509661\t5566\t5569\t2636.324098\n",
    "15509662\t5567\t5568\t2033.605580\n",
    "15509663\t5567\t5569\t727.783339\n",
    "15509664\t5568\t5569\t2760.915335\n",
    "15509665 rows × 3 columns\n",
    "\n",
    "PARTE 2: CALCULO CONSIDERANDO APENAS AS CAPITAIS"
   ]
  },
  {
   "cell_type": "code",
   "execution_count": null,
   "metadata": {
    "vscode": {
     "languageId": "plaintext"
    }
   },
   "outputs": [],
   "source": [
    "# Capitais de interesse\n",
    "\n",
    "codigo_ibge_estados = [\n",
    "    \"1100205\", \"1302603\", \"1200401\", \"5002704\", \"1600303\", \"5300108\",\n",
    "    \"1400100\", \"5103403\", \"1721000\", \"3550308\", \"2211001\", \"3304557\",\n",
    "    \"1501402\", \"5208707\", \"2927408\", \"4205407\", \"2111300\", \"2704302\",\n",
    "    \"4314902\", \"4106902\", \"3106200\", \"2304400\", \"2611606\", \"2507507\",\n",
    "    \"2800308\", \"2408102\", \"3205309\"\n",
    "]"
   ]
  },
  {
   "cell_type": "code",
   "execution_count": null,
   "metadata": {
    "vscode": {
     "languageId": "plaintext"
    }
   },
   "outputs": [],
   "source": [
    "# Para esta base especifica foi necessario ajustar o COD IBGE para 6 digitos\n",
    "distances_df['City1'] = distances_df['City1'].astype(str).str[:6]\n",
    "distances_df['City2'] = distances_df['City2'].astype(str).str[:6]"
   ]
  },
  {
   "cell_type": "code",
   "execution_count": null,
   "metadata": {
    "vscode": {
     "languageId": "plaintext"
    }
   },
   "outputs": [],
   "source": [
    "# Converter a coluna 'City1' para tipo str\n",
    "distances_df['City1'] = distances_df['City1'].astype(str)\n",
    "\n",
    "# Filtrar as cidades na coluna 'City1' usando a lista de códigos IBGE de estados específicos\n",
    "filtered_distances_df = distances_df[distances_df['City1'].isin(codigo_ibge_estados)]\n",
    "\n",
    "# Exibir o DataFrame filtrado\n",
    "print(filtered_distances_df)\n",
    "Empty DataFrame\n",
    "Columns: [City1, City2, Distance (km)]\n",
    "Index: []"
   ]
  },
  {
   "cell_type": "code",
   "execution_count": null,
   "metadata": {
    "vscode": {
     "languageId": "plaintext"
    }
   },
   "outputs": [],
   "source": [
    "# Encontrar os índices das linhas com as menores distâncias para cada 'City2'\n",
    "min_distance_indices = filtered_distances_df.groupby('City2')['Distance (km)'].idxmin()\n",
    "\n",
    "# Filtrar o DataFrame original usando os índices encontrados\n",
    "closest_distances_df = filtered_distances_df.loc[min_distance_indices]\n",
    "\n",
    "# Exibir o DataFrame com os menores valores de distância para cada 'City2'\n",
    "print(closest_distances_df)\n",
    "Empty DataFrame\n",
    "Columns: [City1, City2, Distance (km)]\n",
    "Index: []"
   ]
  }
 ],
 "metadata": {
  "language_info": {
   "name": "python"
  }
 },
 "nbformat": 4,
 "nbformat_minor": 2
}
